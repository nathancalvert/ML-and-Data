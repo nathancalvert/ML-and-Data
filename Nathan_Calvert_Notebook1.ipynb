{
  "nbformat": 4,
  "nbformat_minor": 0,
  "metadata": {
    "colab": {
      "provenance": []
    },
    "kernelspec": {
      "name": "python3",
      "display_name": "Python 3"
    },
    "language_info": {
      "name": "python"
    }
  },
  "cells": [
    {
      "cell_type": "code",
      "execution_count": 1,
      "metadata": {
        "id": "oN62x2BlccIY",
        "colab": {
          "base_uri": "https://localhost:8080/"
        },
        "outputId": "425c7710-d414-4c8e-ee36-5588bc45201d"
      },
      "outputs": [
        {
          "output_type": "stream",
          "name": "stdout",
          "text": [
            "[104677, 104681, 104683, 104693, 104701, 104707, 104711, 104717, 104723, 104729]\n"
          ]
        }
      ],
      "source": [
        "import math #inports the math function to the program\n",
        "def isPrime(n): #defines the function to check if a number is prime\n",
        "  if n <=1: # this if removes all numbers less than or equal to 1 as numbers 1 and below cannot be prime\n",
        "    return False\n",
        "  for i in range(2, int(math.sqrt(n)) + 1): # checks the number's divisability from square roots\n",
        "    if n % i == 0: # this checks for diviability in the number, if it can be then its not prime\n",
        "      return False\n",
        "  return True\n",
        "\n",
        "primes = [] # creates an array to write the primes numbers to\n",
        "num = 2  # The start number for the program, starting at the number 2 as it is the frist prime number\n",
        "\n",
        "while len(primes) < 10000: # a while loop that only runs when the length of the array is under 10k\n",
        "    if isPrime(num): # uses the function to check if the number is prime\n",
        "        primes.append(num) #writes a prime number (determined by the function) to the array and appends a sequential num for each prime value\n",
        "    num += 1 #steps up the number being checked by one, so all numbers may be cheacked\n",
        "    if len(primes) == 10000: # the continue and break impoves efficency by checking within the loop for a breakpoint. this breakpoint is stops the program from running any longer than it needs to be. THis is mostly useless the way my while loop is setup but is good in practice\n",
        "        break\n",
        "    else:\n",
        "        continue\n",
        "\n",
        "primes_9991_to_10000 = primes[9990:10000] # writes only the 9991 to 10000th prime numbers by the sequential number in the array primes to a new array\n",
        "\n",
        "print(primes_9991_to_10000) # prints the array of only the 9991 to 10000th prime numbers\n",
        "\n",
        "with open(\"primes.txt\", \"w\") as file: # this creates a file called primes.txt\n",
        "    for prime in primes_9991_to_10000: # this writes the 9991 to 10000th prime numbers to the file\n",
        "        file.write(str(prime) + \"\\n\") #\n"
      ]
    }
  ]
}